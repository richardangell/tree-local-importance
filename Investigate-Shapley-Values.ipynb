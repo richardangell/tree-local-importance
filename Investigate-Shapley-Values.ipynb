{
 "cells": [
  {
   "cell_type": "markdown",
   "metadata": {},
   "source": [
    "This notebook investigates Shapley Values proposed for tree based ensembles in [Consistent Individualized Feature Attribution for TreeEnsembles](https://arxiv.org/pdf/1802.03888.pdf)."
   ]
  },
  {
   "cell_type": "markdown",
   "metadata": {
    "toc": true
   },
   "source": [
    "<h1>Table of Contents<span class=\"tocSkip\"></span></h1>\n",
    "<div class=\"toc\"><ul class=\"toc-item\"><li><span><a href=\"#Create-dataset\" data-toc-modified-id=\"Create-dataset-1\"><span class=\"toc-item-num\">1&nbsp;&nbsp;</span>Create dataset</a></span></li><li><span><a href=\"#XGBoost-models\" data-toc-modified-id=\"XGBoost-models-2\"><span class=\"toc-item-num\">2&nbsp;&nbsp;</span>XGBoost models</a></span><ul class=\"toc-item\"><li><span><a href=\"#Model-A\" data-toc-modified-id=\"Model-A-2.1\"><span class=\"toc-item-num\">2.1&nbsp;&nbsp;</span>Model A</a></span><ul class=\"toc-item\"><li><span><a href=\"#Set-up-data\" data-toc-modified-id=\"Set-up-data-2.1.1\"><span class=\"toc-item-num\">2.1.1&nbsp;&nbsp;</span>Set up data</a></span></li><li><span><a href=\"#Build-model\" data-toc-modified-id=\"Build-model-2.1.2\"><span class=\"toc-item-num\">2.1.2&nbsp;&nbsp;</span>Build model</a></span></li><li><span><a href=\"#Check-predictions\" data-toc-modified-id=\"Check-predictions-2.1.3\"><span class=\"toc-item-num\">2.1.3&nbsp;&nbsp;</span>Check predictions</a></span></li><li><span><a href=\"#Tree-structure\" data-toc-modified-id=\"Tree-structure-2.1.4\"><span class=\"toc-item-num\">2.1.4&nbsp;&nbsp;</span>Tree structure</a></span></li><li><span><a href=\"#Calculate-prediction-contribution\" data-toc-modified-id=\"Calculate-prediction-contribution-2.1.5\"><span class=\"toc-item-num\">2.1.5&nbsp;&nbsp;</span>Calculate prediction contribution</a></span></li></ul></li><li><span><a href=\"#Model-B\" data-toc-modified-id=\"Model-B-2.2\"><span class=\"toc-item-num\">2.2&nbsp;&nbsp;</span>Model B</a></span><ul class=\"toc-item\"><li><span><a href=\"#Set-up-data\" data-toc-modified-id=\"Set-up-data-2.2.1\"><span class=\"toc-item-num\">2.2.1&nbsp;&nbsp;</span>Set up data</a></span></li><li><span><a href=\"#Build-model\" data-toc-modified-id=\"Build-model-2.2.2\"><span class=\"toc-item-num\">2.2.2&nbsp;&nbsp;</span>Build model</a></span></li><li><span><a href=\"#Check-predictions\" data-toc-modified-id=\"Check-predictions-2.2.3\"><span class=\"toc-item-num\">2.2.3&nbsp;&nbsp;</span>Check predictions</a></span></li><li><span><a href=\"#Tree-structure\" data-toc-modified-id=\"Tree-structure-2.2.4\"><span class=\"toc-item-num\">2.2.4&nbsp;&nbsp;</span>Tree structure</a></span></li><li><span><a href=\"#Calculate-prediction-contribution\" data-toc-modified-id=\"Calculate-prediction-contribution-2.2.5\"><span class=\"toc-item-num\">2.2.5&nbsp;&nbsp;</span>Calculate prediction contribution</a></span></li></ul></li><li><span><a href=\"#Comment\" data-toc-modified-id=\"Comment-2.3\"><span class=\"toc-item-num\">2.3&nbsp;&nbsp;</span>Comment</a></span></li></ul></li><li><span><a href=\"#Sklean-decision-trees\" data-toc-modified-id=\"Sklean-decision-trees-3\"><span class=\"toc-item-num\">3&nbsp;&nbsp;</span>Sklean decision trees</a></span><ul class=\"toc-item\"><li><span><a href=\"#Model-A\" data-toc-modified-id=\"Model-A-3.1\"><span class=\"toc-item-num\">3.1&nbsp;&nbsp;</span>Model A</a></span><ul class=\"toc-item\"><li><span><a href=\"#MAE\" data-toc-modified-id=\"MAE-3.1.1\"><span class=\"toc-item-num\">3.1.1&nbsp;&nbsp;</span>MAE</a></span></li><li><span><a href=\"#MSE\" data-toc-modified-id=\"MSE-3.1.2\"><span class=\"toc-item-num\">3.1.2&nbsp;&nbsp;</span>MSE</a></span></li></ul></li><li><span><a href=\"#Model-B\" data-toc-modified-id=\"Model-B-3.2\"><span class=\"toc-item-num\">3.2&nbsp;&nbsp;</span>Model B</a></span><ul class=\"toc-item\"><li><span><a href=\"#MAE\" data-toc-modified-id=\"MAE-3.2.1\"><span class=\"toc-item-num\">3.2.1&nbsp;&nbsp;</span>MAE</a></span></li><li><span><a href=\"#MSE\" data-toc-modified-id=\"MSE-3.2.2\"><span class=\"toc-item-num\">3.2.2&nbsp;&nbsp;</span>MSE</a></span></li></ul></li><li><span><a href=\"#Comment\" data-toc-modified-id=\"Comment-3.3\"><span class=\"toc-item-num\">3.3&nbsp;&nbsp;</span>Comment</a></span></li></ul></li></ul></div>"
   ]
  },
  {
   "cell_type": "code",
   "execution_count": 1,
   "metadata": {},
   "outputs": [],
   "source": [
    "import pandas as pd\n",
    "import xgboost as xgb\n",
    "import pygbmexpl as pygbmexpl\n",
    "from sklearn.tree import DecisionTreeRegressor, plot_tree"
   ]
  },
  {
   "cell_type": "markdown",
   "metadata": {},
   "source": [
    "# Create dataset"
   ]
  },
  {
   "cell_type": "code",
   "execution_count": 2,
   "metadata": {},
   "outputs": [],
   "source": [
    "data = pd.DataFrame(\n",
    "    {\n",
    "        'response_a':[80,0,0,0],\n",
    "        'response_b':[90,10,0,0],\n",
    "        'fever':[1,0,1,0], \n",
    "        'cough':[1,1,0,0]\n",
    "    }\n",
    ")"
   ]
  },
  {
   "cell_type": "code",
   "execution_count": 3,
   "metadata": {},
   "outputs": [
    {
     "data": {
      "text/html": [
       "<div>\n",
       "<style scoped>\n",
       "    .dataframe tbody tr th:only-of-type {\n",
       "        vertical-align: middle;\n",
       "    }\n",
       "\n",
       "    .dataframe tbody tr th {\n",
       "        vertical-align: top;\n",
       "    }\n",
       "\n",
       "    .dataframe thead th {\n",
       "        text-align: right;\n",
       "    }\n",
       "</style>\n",
       "<table border=\"1\" class=\"dataframe\">\n",
       "  <thead>\n",
       "    <tr style=\"text-align: right;\">\n",
       "      <th></th>\n",
       "      <th>response_a</th>\n",
       "      <th>response_b</th>\n",
       "      <th>fever</th>\n",
       "      <th>cough</th>\n",
       "    </tr>\n",
       "  </thead>\n",
       "  <tbody>\n",
       "    <tr>\n",
       "      <th>0</th>\n",
       "      <td>80</td>\n",
       "      <td>90</td>\n",
       "      <td>1</td>\n",
       "      <td>1</td>\n",
       "    </tr>\n",
       "    <tr>\n",
       "      <th>1</th>\n",
       "      <td>0</td>\n",
       "      <td>10</td>\n",
       "      <td>0</td>\n",
       "      <td>1</td>\n",
       "    </tr>\n",
       "    <tr>\n",
       "      <th>2</th>\n",
       "      <td>0</td>\n",
       "      <td>0</td>\n",
       "      <td>1</td>\n",
       "      <td>0</td>\n",
       "    </tr>\n",
       "    <tr>\n",
       "      <th>3</th>\n",
       "      <td>0</td>\n",
       "      <td>0</td>\n",
       "      <td>0</td>\n",
       "      <td>0</td>\n",
       "    </tr>\n",
       "  </tbody>\n",
       "</table>\n",
       "</div>"
      ],
      "text/plain": [
       "   response_a  response_b  fever  cough\n",
       "0          80          90      1      1\n",
       "1           0          10      0      1\n",
       "2           0           0      1      0\n",
       "3           0           0      0      0"
      ]
     },
     "execution_count": 3,
     "metadata": {},
     "output_type": "execute_result"
    }
   ],
   "source": [
    "data"
   ]
  },
  {
   "cell_type": "markdown",
   "metadata": {},
   "source": [
    "# XGBoost models"
   ]
  },
  {
   "cell_type": "markdown",
   "metadata": {},
   "source": [
    "Define params s.t. we have 'vanilla' trees - no regularisation, no scaling of learning rate."
   ]
  },
  {
   "cell_type": "code",
   "execution_count": 4,
   "metadata": {},
   "outputs": [],
   "source": [
    "params = {\n",
    "    'objective': 'reg:squarederror',\n",
    "    'max_depth': 2, \n",
    "    'subsample': 1,\n",
    "    'colsample_bytree': 1,\n",
    "    'eta': 1, \n",
    "    'lambda': 0,\n",
    "    'gamma': 0,\n",
    "    'alpha': 0\n",
    "}"
   ]
  },
  {
   "cell_type": "markdown",
   "metadata": {},
   "source": [
    "## Model A"
   ]
  },
  {
   "cell_type": "markdown",
   "metadata": {},
   "source": [
    "### Set up data"
   ]
  },
  {
   "cell_type": "code",
   "execution_count": 5,
   "metadata": {},
   "outputs": [],
   "source": [
    "data_xgb_a = xgb.DMatrix(data[['fever', 'cough']], label = data[['response_a']])\n",
    "data_xgb_a.set_base_margin([0] * data.shape[0])"
   ]
  },
  {
   "cell_type": "markdown",
   "metadata": {},
   "source": [
    "### Build model"
   ]
  },
  {
   "cell_type": "code",
   "execution_count": 6,
   "metadata": {},
   "outputs": [],
   "source": [
    "xgb_model_a = xgb.train(\n",
    "    params = params, \n",
    "    dtrain = data_xgb_a, \n",
    "    num_boost_round = 1\n",
    ")"
   ]
  },
  {
   "cell_type": "markdown",
   "metadata": {},
   "source": [
    "### Check predictions"
   ]
  },
  {
   "cell_type": "code",
   "execution_count": 7,
   "metadata": {},
   "outputs": [
    {
     "data": {
      "text/plain": [
       "array([80.,  0.,  0.,  0.], dtype=float32)"
      ]
     },
     "execution_count": 7,
     "metadata": {},
     "output_type": "execute_result"
    }
   ],
   "source": [
    "xgb_model_a.predict(data_xgb_a)"
   ]
  },
  {
   "cell_type": "markdown",
   "metadata": {},
   "source": [
    "### Tree structure"
   ]
  },
  {
   "cell_type": "code",
   "execution_count": 8,
   "metadata": {},
   "outputs": [
    {
     "data": {
      "text/html": [
       "<div>\n",
       "<style scoped>\n",
       "    .dataframe tbody tr th:only-of-type {\n",
       "        vertical-align: middle;\n",
       "    }\n",
       "\n",
       "    .dataframe tbody tr th {\n",
       "        vertical-align: top;\n",
       "    }\n",
       "\n",
       "    .dataframe thead th {\n",
       "        text-align: right;\n",
       "    }\n",
       "</style>\n",
       "<table border=\"1\" class=\"dataframe\">\n",
       "  <thead>\n",
       "    <tr style=\"text-align: right;\">\n",
       "      <th></th>\n",
       "      <th>tree</th>\n",
       "      <th>nodeid</th>\n",
       "      <th>depth</th>\n",
       "      <th>yes</th>\n",
       "      <th>no</th>\n",
       "      <th>missing</th>\n",
       "      <th>split</th>\n",
       "      <th>split_condition</th>\n",
       "      <th>leaf</th>\n",
       "      <th>gain</th>\n",
       "      <th>cover</th>\n",
       "      <th>node_type</th>\n",
       "      <th>H</th>\n",
       "      <th>G</th>\n",
       "      <th>weight</th>\n",
       "    </tr>\n",
       "  </thead>\n",
       "  <tbody>\n",
       "    <tr>\n",
       "      <th>0</th>\n",
       "      <td>0</td>\n",
       "      <td>0</td>\n",
       "      <td>0</td>\n",
       "      <td>1.0</td>\n",
       "      <td>2.0</td>\n",
       "      <td>1.0</td>\n",
       "      <td>fever</td>\n",
       "      <td>1.0</td>\n",
       "      <td>NaN</td>\n",
       "      <td>1600.0</td>\n",
       "      <td>4</td>\n",
       "      <td>internal</td>\n",
       "      <td>4</td>\n",
       "      <td>-80.0</td>\n",
       "      <td>20.0</td>\n",
       "    </tr>\n",
       "    <tr>\n",
       "      <th>1</th>\n",
       "      <td>0</td>\n",
       "      <td>1</td>\n",
       "      <td>1</td>\n",
       "      <td>NaN</td>\n",
       "      <td>NaN</td>\n",
       "      <td>NaN</td>\n",
       "      <td>NaN</td>\n",
       "      <td>NaN</td>\n",
       "      <td>-0.0</td>\n",
       "      <td>NaN</td>\n",
       "      <td>2</td>\n",
       "      <td>leaf</td>\n",
       "      <td>2</td>\n",
       "      <td>0.0</td>\n",
       "      <td>-0.0</td>\n",
       "    </tr>\n",
       "    <tr>\n",
       "      <th>2</th>\n",
       "      <td>0</td>\n",
       "      <td>2</td>\n",
       "      <td>1</td>\n",
       "      <td>3.0</td>\n",
       "      <td>4.0</td>\n",
       "      <td>3.0</td>\n",
       "      <td>cough</td>\n",
       "      <td>1.0</td>\n",
       "      <td>NaN</td>\n",
       "      <td>3200.0</td>\n",
       "      <td>2</td>\n",
       "      <td>internal</td>\n",
       "      <td>2</td>\n",
       "      <td>-80.0</td>\n",
       "      <td>40.0</td>\n",
       "    </tr>\n",
       "    <tr>\n",
       "      <th>3</th>\n",
       "      <td>0</td>\n",
       "      <td>3</td>\n",
       "      <td>2</td>\n",
       "      <td>NaN</td>\n",
       "      <td>NaN</td>\n",
       "      <td>NaN</td>\n",
       "      <td>NaN</td>\n",
       "      <td>NaN</td>\n",
       "      <td>-0.0</td>\n",
       "      <td>NaN</td>\n",
       "      <td>1</td>\n",
       "      <td>leaf</td>\n",
       "      <td>1</td>\n",
       "      <td>0.0</td>\n",
       "      <td>-0.0</td>\n",
       "    </tr>\n",
       "    <tr>\n",
       "      <th>4</th>\n",
       "      <td>0</td>\n",
       "      <td>4</td>\n",
       "      <td>2</td>\n",
       "      <td>NaN</td>\n",
       "      <td>NaN</td>\n",
       "      <td>NaN</td>\n",
       "      <td>NaN</td>\n",
       "      <td>NaN</td>\n",
       "      <td>80.0</td>\n",
       "      <td>NaN</td>\n",
       "      <td>1</td>\n",
       "      <td>leaf</td>\n",
       "      <td>1</td>\n",
       "      <td>-80.0</td>\n",
       "      <td>80.0</td>\n",
       "    </tr>\n",
       "  </tbody>\n",
       "</table>\n",
       "</div>"
      ],
      "text/plain": [
       "   tree  nodeid  depth  yes   no  missing  split  split_condition  leaf  \\\n",
       "0     0       0      0  1.0  2.0      1.0  fever              1.0   NaN   \n",
       "1     0       1      1  NaN  NaN      NaN    NaN              NaN  -0.0   \n",
       "2     0       2      1  3.0  4.0      3.0  cough              1.0   NaN   \n",
       "3     0       3      2  NaN  NaN      NaN    NaN              NaN  -0.0   \n",
       "4     0       4      2  NaN  NaN      NaN    NaN              NaN  80.0   \n",
       "\n",
       "     gain  cover node_type  H     G  weight  \n",
       "0  1600.0      4  internal  4 -80.0    20.0  \n",
       "1     NaN      2      leaf  2   0.0    -0.0  \n",
       "2  3200.0      2  internal  2 -80.0    40.0  \n",
       "3     NaN      1      leaf  1   0.0    -0.0  \n",
       "4     NaN      1      leaf  1 -80.0    80.0  "
      ]
     },
     "execution_count": 8,
     "metadata": {},
     "output_type": "execute_result"
    }
   ],
   "source": [
    "xgb_model_a_df = pygbmexpl.xgb.parser.extract_model_predictions(xgb_model_a)\n",
    "xgb_model_a_df"
   ]
  },
  {
   "cell_type": "markdown",
   "metadata": {},
   "source": [
    "### Calculate prediction contribution\n",
    "Using Saabas method"
   ]
  },
  {
   "cell_type": "code",
   "execution_count": 9,
   "metadata": {},
   "outputs": [
    {
     "data": {
      "text/html": [
       "<div>\n",
       "<style scoped>\n",
       "    .dataframe tbody tr th:only-of-type {\n",
       "        vertical-align: middle;\n",
       "    }\n",
       "\n",
       "    .dataframe tbody tr th {\n",
       "        vertical-align: top;\n",
       "    }\n",
       "\n",
       "    .dataframe thead th {\n",
       "        text-align: right;\n",
       "    }\n",
       "</style>\n",
       "<table border=\"1\" class=\"dataframe\">\n",
       "  <thead>\n",
       "    <tr style=\"text-align: right;\">\n",
       "      <th></th>\n",
       "      <th>tree</th>\n",
       "      <th>nodeid</th>\n",
       "      <th>yes</th>\n",
       "      <th>no</th>\n",
       "      <th>missing</th>\n",
       "      <th>split</th>\n",
       "      <th>split_condition</th>\n",
       "      <th>cover</th>\n",
       "      <th>weight</th>\n",
       "      <th>node_type</th>\n",
       "      <th>H</th>\n",
       "      <th>G</th>\n",
       "      <th>value</th>\n",
       "      <th>contributing_var</th>\n",
       "      <th>contribution</th>\n",
       "    </tr>\n",
       "  </thead>\n",
       "  <tbody>\n",
       "    <tr>\n",
       "      <th>0</th>\n",
       "      <td>0</td>\n",
       "      <td>0</td>\n",
       "      <td>1.0</td>\n",
       "      <td>2.0</td>\n",
       "      <td>1.0</td>\n",
       "      <td>fever</td>\n",
       "      <td>1.0</td>\n",
       "      <td>4</td>\n",
       "      <td>20.0</td>\n",
       "      <td>internal</td>\n",
       "      <td>4</td>\n",
       "      <td>-80.0</td>\n",
       "      <td>1.0</td>\n",
       "      <td>base</td>\n",
       "      <td>20.0</td>\n",
       "    </tr>\n",
       "    <tr>\n",
       "      <th>2</th>\n",
       "      <td>0</td>\n",
       "      <td>2</td>\n",
       "      <td>3.0</td>\n",
       "      <td>4.0</td>\n",
       "      <td>3.0</td>\n",
       "      <td>cough</td>\n",
       "      <td>1.0</td>\n",
       "      <td>2</td>\n",
       "      <td>40.0</td>\n",
       "      <td>internal</td>\n",
       "      <td>2</td>\n",
       "      <td>-80.0</td>\n",
       "      <td>1.0</td>\n",
       "      <td>fever</td>\n",
       "      <td>20.0</td>\n",
       "    </tr>\n",
       "    <tr>\n",
       "      <th>4</th>\n",
       "      <td>0</td>\n",
       "      <td>4</td>\n",
       "      <td>NaN</td>\n",
       "      <td>NaN</td>\n",
       "      <td>NaN</td>\n",
       "      <td>NaN</td>\n",
       "      <td>NaN</td>\n",
       "      <td>1</td>\n",
       "      <td>80.0</td>\n",
       "      <td>leaf</td>\n",
       "      <td>1</td>\n",
       "      <td>-80.0</td>\n",
       "      <td>NaN</td>\n",
       "      <td>cough</td>\n",
       "      <td>40.0</td>\n",
       "    </tr>\n",
       "  </tbody>\n",
       "</table>\n",
       "</div>"
      ],
      "text/plain": [
       "   tree  nodeid  yes   no  missing  split  split_condition  cover  weight  \\\n",
       "0     0       0  1.0  2.0      1.0  fever              1.0      4    20.0   \n",
       "2     0       2  3.0  4.0      3.0  cough              1.0      2    40.0   \n",
       "4     0       4  NaN  NaN      NaN    NaN              NaN      1    80.0   \n",
       "\n",
       "  node_type  H     G  value contributing_var  contribution  \n",
       "0  internal  4 -80.0    1.0             base          20.0  \n",
       "2  internal  2 -80.0    1.0            fever          20.0  \n",
       "4      leaf  1 -80.0    NaN            cough          40.0  "
      ]
     },
     "execution_count": 9,
     "metadata": {},
     "output_type": "execute_result"
    }
   ],
   "source": [
    "pygbmexpl.xgb.explainer.decompose_prediction(xgb_model_a_df, data.iloc[0])"
   ]
  },
  {
   "cell_type": "markdown",
   "metadata": {},
   "source": [
    "## Model B"
   ]
  },
  {
   "cell_type": "markdown",
   "metadata": {},
   "source": [
    "### Set up data"
   ]
  },
  {
   "cell_type": "code",
   "execution_count": 10,
   "metadata": {},
   "outputs": [],
   "source": [
    "data_xgb_b = xgb.DMatrix(data[['fever', 'cough']], label = data[['response_b']])\n",
    "data_xgb_b.set_base_margin([0] * data.shape[0])"
   ]
  },
  {
   "cell_type": "markdown",
   "metadata": {},
   "source": [
    "### Build model"
   ]
  },
  {
   "cell_type": "code",
   "execution_count": 11,
   "metadata": {},
   "outputs": [],
   "source": [
    "xgb_model_b = xgb.train(\n",
    "    params = params, \n",
    "    dtrain = data_xgb_b, \n",
    "    num_boost_round = 1\n",
    ")"
   ]
  },
  {
   "cell_type": "markdown",
   "metadata": {},
   "source": [
    "### Check predictions"
   ]
  },
  {
   "cell_type": "code",
   "execution_count": 12,
   "metadata": {},
   "outputs": [
    {
     "data": {
      "text/plain": [
       "array([90., 10.,  0.,  0.], dtype=float32)"
      ]
     },
     "execution_count": 12,
     "metadata": {},
     "output_type": "execute_result"
    }
   ],
   "source": [
    "xgb_model_b.predict(data_xgb_b)"
   ]
  },
  {
   "cell_type": "markdown",
   "metadata": {},
   "source": [
    "### Tree structure"
   ]
  },
  {
   "cell_type": "code",
   "execution_count": 13,
   "metadata": {},
   "outputs": [
    {
     "data": {
      "text/html": [
       "<div>\n",
       "<style scoped>\n",
       "    .dataframe tbody tr th:only-of-type {\n",
       "        vertical-align: middle;\n",
       "    }\n",
       "\n",
       "    .dataframe tbody tr th {\n",
       "        vertical-align: top;\n",
       "    }\n",
       "\n",
       "    .dataframe thead th {\n",
       "        text-align: right;\n",
       "    }\n",
       "</style>\n",
       "<table border=\"1\" class=\"dataframe\">\n",
       "  <thead>\n",
       "    <tr style=\"text-align: right;\">\n",
       "      <th></th>\n",
       "      <th>tree</th>\n",
       "      <th>nodeid</th>\n",
       "      <th>depth</th>\n",
       "      <th>yes</th>\n",
       "      <th>no</th>\n",
       "      <th>missing</th>\n",
       "      <th>split</th>\n",
       "      <th>split_condition</th>\n",
       "      <th>leaf</th>\n",
       "      <th>gain</th>\n",
       "      <th>cover</th>\n",
       "      <th>node_type</th>\n",
       "      <th>H</th>\n",
       "      <th>G</th>\n",
       "      <th>weight</th>\n",
       "    </tr>\n",
       "  </thead>\n",
       "  <tbody>\n",
       "    <tr>\n",
       "      <th>0</th>\n",
       "      <td>0</td>\n",
       "      <td>0</td>\n",
       "      <td>0</td>\n",
       "      <td>1.0</td>\n",
       "      <td>2.0</td>\n",
       "      <td>1.0</td>\n",
       "      <td>cough</td>\n",
       "      <td>1.0</td>\n",
       "      <td>NaN</td>\n",
       "      <td>2500.0</td>\n",
       "      <td>4</td>\n",
       "      <td>internal</td>\n",
       "      <td>4</td>\n",
       "      <td>-100.0</td>\n",
       "      <td>25.0</td>\n",
       "    </tr>\n",
       "    <tr>\n",
       "      <th>1</th>\n",
       "      <td>0</td>\n",
       "      <td>1</td>\n",
       "      <td>1</td>\n",
       "      <td>NaN</td>\n",
       "      <td>NaN</td>\n",
       "      <td>NaN</td>\n",
       "      <td>NaN</td>\n",
       "      <td>NaN</td>\n",
       "      <td>-0.0</td>\n",
       "      <td>NaN</td>\n",
       "      <td>2</td>\n",
       "      <td>leaf</td>\n",
       "      <td>2</td>\n",
       "      <td>0.0</td>\n",
       "      <td>-0.0</td>\n",
       "    </tr>\n",
       "    <tr>\n",
       "      <th>2</th>\n",
       "      <td>0</td>\n",
       "      <td>2</td>\n",
       "      <td>1</td>\n",
       "      <td>3.0</td>\n",
       "      <td>4.0</td>\n",
       "      <td>3.0</td>\n",
       "      <td>fever</td>\n",
       "      <td>1.0</td>\n",
       "      <td>NaN</td>\n",
       "      <td>3200.0</td>\n",
       "      <td>2</td>\n",
       "      <td>internal</td>\n",
       "      <td>2</td>\n",
       "      <td>-100.0</td>\n",
       "      <td>50.0</td>\n",
       "    </tr>\n",
       "    <tr>\n",
       "      <th>3</th>\n",
       "      <td>0</td>\n",
       "      <td>3</td>\n",
       "      <td>2</td>\n",
       "      <td>NaN</td>\n",
       "      <td>NaN</td>\n",
       "      <td>NaN</td>\n",
       "      <td>NaN</td>\n",
       "      <td>NaN</td>\n",
       "      <td>10.0</td>\n",
       "      <td>NaN</td>\n",
       "      <td>1</td>\n",
       "      <td>leaf</td>\n",
       "      <td>1</td>\n",
       "      <td>-10.0</td>\n",
       "      <td>10.0</td>\n",
       "    </tr>\n",
       "    <tr>\n",
       "      <th>4</th>\n",
       "      <td>0</td>\n",
       "      <td>4</td>\n",
       "      <td>2</td>\n",
       "      <td>NaN</td>\n",
       "      <td>NaN</td>\n",
       "      <td>NaN</td>\n",
       "      <td>NaN</td>\n",
       "      <td>NaN</td>\n",
       "      <td>90.0</td>\n",
       "      <td>NaN</td>\n",
       "      <td>1</td>\n",
       "      <td>leaf</td>\n",
       "      <td>1</td>\n",
       "      <td>-90.0</td>\n",
       "      <td>90.0</td>\n",
       "    </tr>\n",
       "  </tbody>\n",
       "</table>\n",
       "</div>"
      ],
      "text/plain": [
       "   tree  nodeid  depth  yes   no  missing  split  split_condition  leaf  \\\n",
       "0     0       0      0  1.0  2.0      1.0  cough              1.0   NaN   \n",
       "1     0       1      1  NaN  NaN      NaN    NaN              NaN  -0.0   \n",
       "2     0       2      1  3.0  4.0      3.0  fever              1.0   NaN   \n",
       "3     0       3      2  NaN  NaN      NaN    NaN              NaN  10.0   \n",
       "4     0       4      2  NaN  NaN      NaN    NaN              NaN  90.0   \n",
       "\n",
       "     gain  cover node_type  H      G  weight  \n",
       "0  2500.0      4  internal  4 -100.0    25.0  \n",
       "1     NaN      2      leaf  2    0.0    -0.0  \n",
       "2  3200.0      2  internal  2 -100.0    50.0  \n",
       "3     NaN      1      leaf  1  -10.0    10.0  \n",
       "4     NaN      1      leaf  1  -90.0    90.0  "
      ]
     },
     "execution_count": 13,
     "metadata": {},
     "output_type": "execute_result"
    }
   ],
   "source": [
    "xgb_model_b_df = pygbmexpl.xgb.parser.extract_model_predictions(xgb_model_b)\n",
    "xgb_model_b_df"
   ]
  },
  {
   "cell_type": "markdown",
   "metadata": {},
   "source": [
    "### Calculate prediction contribution\n",
    "Using Saabas method"
   ]
  },
  {
   "cell_type": "code",
   "execution_count": 14,
   "metadata": {},
   "outputs": [
    {
     "data": {
      "text/html": [
       "<div>\n",
       "<style scoped>\n",
       "    .dataframe tbody tr th:only-of-type {\n",
       "        vertical-align: middle;\n",
       "    }\n",
       "\n",
       "    .dataframe tbody tr th {\n",
       "        vertical-align: top;\n",
       "    }\n",
       "\n",
       "    .dataframe thead th {\n",
       "        text-align: right;\n",
       "    }\n",
       "</style>\n",
       "<table border=\"1\" class=\"dataframe\">\n",
       "  <thead>\n",
       "    <tr style=\"text-align: right;\">\n",
       "      <th></th>\n",
       "      <th>tree</th>\n",
       "      <th>nodeid</th>\n",
       "      <th>yes</th>\n",
       "      <th>no</th>\n",
       "      <th>missing</th>\n",
       "      <th>split</th>\n",
       "      <th>split_condition</th>\n",
       "      <th>cover</th>\n",
       "      <th>weight</th>\n",
       "      <th>node_type</th>\n",
       "      <th>H</th>\n",
       "      <th>G</th>\n",
       "      <th>value</th>\n",
       "      <th>contributing_var</th>\n",
       "      <th>contribution</th>\n",
       "    </tr>\n",
       "  </thead>\n",
       "  <tbody>\n",
       "    <tr>\n",
       "      <th>0</th>\n",
       "      <td>0</td>\n",
       "      <td>0</td>\n",
       "      <td>1.0</td>\n",
       "      <td>2.0</td>\n",
       "      <td>1.0</td>\n",
       "      <td>cough</td>\n",
       "      <td>1.0</td>\n",
       "      <td>4</td>\n",
       "      <td>25.0</td>\n",
       "      <td>internal</td>\n",
       "      <td>4</td>\n",
       "      <td>-100.0</td>\n",
       "      <td>1.0</td>\n",
       "      <td>base</td>\n",
       "      <td>25.0</td>\n",
       "    </tr>\n",
       "    <tr>\n",
       "      <th>2</th>\n",
       "      <td>0</td>\n",
       "      <td>2</td>\n",
       "      <td>3.0</td>\n",
       "      <td>4.0</td>\n",
       "      <td>3.0</td>\n",
       "      <td>fever</td>\n",
       "      <td>1.0</td>\n",
       "      <td>2</td>\n",
       "      <td>50.0</td>\n",
       "      <td>internal</td>\n",
       "      <td>2</td>\n",
       "      <td>-100.0</td>\n",
       "      <td>1.0</td>\n",
       "      <td>cough</td>\n",
       "      <td>25.0</td>\n",
       "    </tr>\n",
       "    <tr>\n",
       "      <th>4</th>\n",
       "      <td>0</td>\n",
       "      <td>4</td>\n",
       "      <td>NaN</td>\n",
       "      <td>NaN</td>\n",
       "      <td>NaN</td>\n",
       "      <td>NaN</td>\n",
       "      <td>NaN</td>\n",
       "      <td>1</td>\n",
       "      <td>90.0</td>\n",
       "      <td>leaf</td>\n",
       "      <td>1</td>\n",
       "      <td>-90.0</td>\n",
       "      <td>NaN</td>\n",
       "      <td>fever</td>\n",
       "      <td>40.0</td>\n",
       "    </tr>\n",
       "  </tbody>\n",
       "</table>\n",
       "</div>"
      ],
      "text/plain": [
       "   tree  nodeid  yes   no  missing  split  split_condition  cover  weight  \\\n",
       "0     0       0  1.0  2.0      1.0  cough              1.0      4    25.0   \n",
       "2     0       2  3.0  4.0      3.0  fever              1.0      2    50.0   \n",
       "4     0       4  NaN  NaN      NaN    NaN              NaN      1    90.0   \n",
       "\n",
       "  node_type  H      G  value contributing_var  contribution  \n",
       "0  internal  4 -100.0    1.0             base          25.0  \n",
       "2  internal  2 -100.0    1.0            cough          25.0  \n",
       "4      leaf  1  -90.0    NaN            fever          40.0  "
      ]
     },
     "execution_count": 14,
     "metadata": {},
     "output_type": "execute_result"
    }
   ],
   "source": [
    "pygbmexpl.xgb.explainer.decompose_prediction(xgb_model_b_df, data.iloc[0])"
   ]
  },
  {
   "cell_type": "markdown",
   "metadata": {},
   "source": [
    "## Comment"
   ]
  },
  {
   "cell_type": "markdown",
   "metadata": {},
   "source": [
    "We have reproduced the results presented in Figure 1 of [Consistent Individualized Feature Attribution for TreeEnsembles](https://arxiv.org/pdf/1802.03888.pdf). <br>\n",
    "As we can see Model A attributes more importance to `cough` and Model B attributes more to `fever`. <br>\n",
    "However Model A can be written as `output = [cough & fever]*80` and Model B can be written as `output = [cough & fever]*80 + [cough]*10` so 'cough' should be more important in Model B. <br>\n",
    "We can also see that some of the contribution that would otherwise be attributed to the first split in each model, is attributed to the `base`. This is the starting point for each tree, here it is the average of the response as we're using squared error loss function."
   ]
  },
  {
   "cell_type": "markdown",
   "metadata": {},
   "source": [
    "# Sklean decision trees"
   ]
  },
  {
   "cell_type": "markdown",
   "metadata": {},
   "source": [
    "Note, if we used a different loss function (e.g. mean absolute error) then the base value i.e. the prediction for the root note would be different. <br>\n",
    "We cannot use MAE as a loss function in xgboost as it requires derivates of the loss function which is not defined at x = 0 for MAE - however we can use the decision tree regressor from scikit-learn."
   ]
  },
  {
   "cell_type": "code",
   "execution_count": 15,
   "metadata": {},
   "outputs": [],
   "source": [
    "tree_model_mae = DecisionTreeRegressor(\n",
    "    criterion = 'mae', \n",
    "    max_depth = 2, \n",
    "    min_samples_leaf = 1, \n",
    "    min_samples_split = 2, \n",
    "    random_state = 100\n",
    ")"
   ]
  },
  {
   "cell_type": "code",
   "execution_count": 21,
   "metadata": {},
   "outputs": [],
   "source": [
    "tree_model_mse = DecisionTreeRegressor(\n",
    "    criterion = 'mse', \n",
    "    max_depth = 2, \n",
    "    min_samples_leaf = 1, \n",
    "    min_samples_split = 2, \n",
    "    random_state = 100\n",
    ")"
   ]
  },
  {
   "cell_type": "markdown",
   "metadata": {},
   "source": [
    "## Model A"
   ]
  },
  {
   "cell_type": "markdown",
   "metadata": {},
   "source": [
    "### MAE"
   ]
  },
  {
   "cell_type": "code",
   "execution_count": 16,
   "metadata": {},
   "outputs": [],
   "source": [
    "tree_mae_model_a = tree_model_mae.fit(X = data[['fever', 'cough']], y = data[['response_a']])"
   ]
  },
  {
   "cell_type": "code",
   "execution_count": 17,
   "metadata": {},
   "outputs": [
    {
     "data": {
      "text/plain": [
       "[Text(133.92000000000002, 181.2, 'X[0] <= 0.5\\nmae = 20.0\\nsamples = 4\\nvalue = 0.0'),\n",
       " Text(66.96000000000001, 108.72, 'mae = 0.0\\nsamples = 2\\nvalue = 0.0'),\n",
       " Text(200.88000000000002, 108.72, 'X[1] <= 0.5\\nmae = 40.0\\nsamples = 2\\nvalue = 40.0'),\n",
       " Text(133.92000000000002, 36.23999999999998, 'mae = 0.0\\nsamples = 1\\nvalue = 0.0'),\n",
       " Text(267.84000000000003, 36.23999999999998, 'mae = 0.0\\nsamples = 1\\nvalue = 80.0')]"
      ]
     },
     "execution_count": 17,
     "metadata": {},
     "output_type": "execute_result"
    },
    {
     "data": {
      "image/png": "[encoded data removed]",
      "text/plain": [
       "<Figure size 432x288 with 1 Axes>"
      ]
     },
     "metadata": {
      "needs_background": "light"
     },
     "output_type": "display_data"
    }
   ],
   "source": [
    "plot_tree(tree_mae_model_a, filled = True)"
   ]
  },
  {
   "cell_type": "markdown",
   "metadata": {},
   "source": [
    "### MSE"
   ]
  },
  {
   "cell_type": "code",
   "execution_count": 22,
   "metadata": {},
   "outputs": [],
   "source": [
    "tree_mse_model_a = tree_model_mse.fit(X = data[['fever', 'cough']], y = data[['response_a']])"
   ]
  },
  {
   "cell_type": "code",
   "execution_count": 23,
   "metadata": {},
   "outputs": [
    {
     "data": {
      "text/plain": [
       "[Text(133.92000000000002, 181.2, 'X[0] <= 0.5\\nmse = 1200.0\\nsamples = 4\\nvalue = 20.0'),\n",
       " Text(66.96000000000001, 108.72, 'mse = 0.0\\nsamples = 2\\nvalue = 0.0'),\n",
       " Text(200.88000000000002, 108.72, 'X[1] <= 0.5\\nmse = 1600.0\\nsamples = 2\\nvalue = 40.0'),\n",
       " Text(133.92000000000002, 36.23999999999998, 'mse = 0.0\\nsamples = 1\\nvalue = 0.0'),\n",
       " Text(267.84000000000003, 36.23999999999998, 'mse = 0.0\\nsamples = 1\\nvalue = 80.0')]"
      ]
     },
     "execution_count": 23,
     "metadata": {},
     "output_type": "execute_result"
    },
    {
     "data": {
      "image/png": "[encoded data removed]",
      "text/plain": [
       "<Figure size 432x288 with 1 Axes>"
      ]
     },
     "metadata": {
      "needs_background": "light"
     },
     "output_type": "display_data"
    }
   ],
   "source": [
    "plot_tree(tree_mse_model_a, filled = True)"
   ]
  },
  {
   "cell_type": "markdown",
   "metadata": {},
   "source": [
    "## Model B"
   ]
  },
  {
   "cell_type": "markdown",
   "metadata": {},
   "source": [
    "### MAE"
   ]
  },
  {
   "cell_type": "code",
   "execution_count": 18,
   "metadata": {},
   "outputs": [],
   "source": [
    "tree_mae_model_b = tree_model.fit(X = data[['fever', 'cough']], y = data[['response_b']])"
   ]
  },
  {
   "cell_type": "code",
   "execution_count": 20,
   "metadata": {},
   "outputs": [
    {
     "data": {
      "text/plain": [
       "[Text(133.92000000000002, 181.2, 'X[1] <= 0.5\\nmae = 25.0\\nsamples = 4\\nvalue = 5.0'),\n",
       " Text(66.96000000000001, 108.72, 'mae = 0.0\\nsamples = 2\\nvalue = 0.0'),\n",
       " Text(200.88000000000002, 108.72, 'X[0] <= 0.5\\nmae = 40.0\\nsamples = 2\\nvalue = 50.0'),\n",
       " Text(133.92000000000002, 36.23999999999998, 'mae = 0.0\\nsamples = 1\\nvalue = 10.0'),\n",
       " Text(267.84000000000003, 36.23999999999998, 'mae = 0.0\\nsamples = 1\\nvalue = 90.0')]"
      ]
     },
     "execution_count": 20,
     "metadata": {},
     "output_type": "execute_result"
    },
    {
     "data": {
      "image/png": "[encoded data removed]",
      "text/plain": [
       "<Figure size 432x288 with 1 Axes>"
      ]
     },
     "metadata": {
      "needs_background": "light"
     },
     "output_type": "display_data"
    }
   ],
   "source": [
    "plot_tree(tree_mae_model_b, filled = True)"
   ]
  },
  {
   "cell_type": "markdown",
   "metadata": {},
   "source": [
    "### MSE"
   ]
  },
  {
   "cell_type": "code",
   "execution_count": 24,
   "metadata": {},
   "outputs": [],
   "source": [
    "tree_mse_model_b = tree_model_mse.fit(X = data[['fever', 'cough']], y = data[['response_b']])"
   ]
  },
  {
   "cell_type": "code",
   "execution_count": 25,
   "metadata": {},
   "outputs": [
    {
     "data": {
      "text/plain": [
       "[Text(133.92000000000002, 181.2, 'X[1] <= 0.5\\nmse = 1425.0\\nsamples = 4\\nvalue = 25.0'),\n",
       " Text(66.96000000000001, 108.72, 'mse = 0.0\\nsamples = 2\\nvalue = 0.0'),\n",
       " Text(200.88000000000002, 108.72, 'X[0] <= 0.5\\nmse = 1600.0\\nsamples = 2\\nvalue = 50.0'),\n",
       " Text(133.92000000000002, 36.23999999999998, 'mse = 0.0\\nsamples = 1\\nvalue = 10.0'),\n",
       " Text(267.84000000000003, 36.23999999999998, 'mse = 0.0\\nsamples = 1\\nvalue = 90.0')]"
      ]
     },
     "execution_count": 25,
     "metadata": {},
     "output_type": "execute_result"
    },
    {
     "data": {
      "image/png": "[encoded data removed]",
      "text/plain": [
       "<Figure size 432x288 with 1 Axes>"
      ]
     },
     "metadata": {
      "needs_background": "light"
     },
     "output_type": "display_data"
    }
   ],
   "source": [
    "plot_tree(tree_mse_model_b, filled = True)"
   ]
  },
  {
   "cell_type": "markdown",
   "metadata": {},
   "source": [
    "## Comment"
   ]
  },
  {
   "cell_type": "markdown",
   "metadata": {},
   "source": [
    "Using the MSE loss function in the scikit-learn decision tree model we have produced the same tree as we did with xgboost. <br>\n",
    "We can see that by changing the loss function we have changed the base value for the trees (i.e. the prediction for the root node) - but none of the other node predictions in the model."
   ]
  },
  {
   "cell_type": "code",
   "execution_count": null,
   "metadata": {},
   "outputs": [],
   "source": []
  },
  {
   "cell_type": "code",
   "execution_count": null,
   "metadata": {},
   "outputs": [],
   "source": []
  },
  {
   "cell_type": "code",
   "execution_count": null,
   "metadata": {},
   "outputs": [],
   "source": []
  },
  {
   "cell_type": "code",
   "execution_count": null,
   "metadata": {},
   "outputs": [],
   "source": []
  },
  {
   "cell_type": "code",
   "execution_count": null,
   "metadata": {},
   "outputs": [],
   "source": []
  },
  {
   "cell_type": "code",
   "execution_count": null,
   "metadata": {},
   "outputs": [],
   "source": []
  },
  {
   "cell_type": "code",
   "execution_count": null,
   "metadata": {},
   "outputs": [],
   "source": []
  },
  {
   "cell_type": "code",
   "execution_count": null,
   "metadata": {},
   "outputs": [],
   "source": []
  },
  {
   "cell_type": "code",
   "execution_count": null,
   "metadata": {},
   "outputs": [],
   "source": []
  }
 ],
 "metadata": {
  "kernelspec": {
   "display_name": "tree-local-importance",
   "language": "python",
   "name": "tree-local-importance"
  },
  "language_info": {
   "codemirror_mode": {
    "name": "ipython",
    "version": 3
   },
   "file_extension": ".py",
   "mimetype": "text/x-python",
   "name": "python",
   "nbconvert_exporter": "python",
   "pygments_lexer": "ipython3",
   "version": "3.7.4"
  },
  "toc": {
   "base_numbering": 1,
   "nav_menu": {},
   "number_sections": true,
   "sideBar": true,
   "skip_h1_title": false,
   "title_cell": "Table of Contents",
   "title_sidebar": "Contents",
   "toc_cell": true,
   "toc_position": {},
   "toc_section_display": true,
   "toc_window_display": true
  }
 },
 "nbformat": 4,
 "nbformat_minor": 4
}
